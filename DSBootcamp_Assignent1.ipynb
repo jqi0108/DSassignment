{
 "cells": [
  {
   "cell_type": "markdown",
   "id": "8791c732-566d-49da-baa6-17c0ea4110de",
   "metadata": {},
   "source": [
    "## Take home exercises\n",
    "\n",
    "1. Write a function  *count_vowels(word)* that takes a word as an argument and returns the number of vowels in the word\n",
    "2. Iterate through the following list of animals and print each one in all caps.\n",
    "\n",
    "  animals=['tiger', 'elephant', 'monkey', 'zebra', 'panther']\n",
    "\n",
    "3. Write a program that iterates from 1 to 20, printing each number and whether it's odd or even.\n",
    "4. Write a function *sum_of_integers(a, b)* that takes two integers as input from the user and returns their sum.\n"
   ]
  },
  {
   "cell_type": "code",
   "execution_count": 17,
   "id": "64e1a57f-4c9c-48e2-91c2-5c3a2ac93d8b",
   "metadata": {},
   "outputs": [
    {
     "data": {
      "text/plain": [
       "2"
      ]
     },
     "execution_count": 17,
     "metadata": {},
     "output_type": "execute_result"
    }
   ],
   "source": [
    "def count_vowels(word):\n",
    "    vowel_count = 0\n",
    "    vowels = ['a','e','i','o','u']\n",
    "    for i in range(len(word)):\n",
    "        for x in vowels:\n",
    "            if word[i] == x:\n",
    "                vowel_count += 1\n",
    "    return vowel_count\n",
    "\n",
    "\n",
    "word = 'you'\n",
    "count_vowels(word)"
   ]
  },
  {
   "cell_type": "code",
   "execution_count": 19,
   "id": "a005799b-c49f-4796-83bb-05f79f4affa9",
   "metadata": {},
   "outputs": [
    {
     "name": "stdout",
     "output_type": "stream",
     "text": [
      "TIGER\n",
      "ELEPHANT\n",
      "MONKEY\n",
      "ZEBRA\n",
      "PANTHER\n"
     ]
    }
   ],
   "source": [
    "animals = ['tiger', 'elephant', 'monkey', 'zebra', 'panther']\n",
    "\n",
    "for i in animals:\n",
    "    print(i.upper())\n"
   ]
  },
  {
   "cell_type": "code",
   "execution_count": 20,
   "id": "71f3c1a1-b708-4726-8dd1-b6ab25c108d4",
   "metadata": {},
   "outputs": [
    {
     "name": "stdout",
     "output_type": "stream",
     "text": [
      "1 is even.\n",
      "2 is even.\n",
      "3 is even.\n",
      "4 is even.\n",
      "5 is even.\n",
      "6 is even.\n",
      "7 is even.\n",
      "8 is even.\n",
      "9 is even.\n",
      "10 is even.\n",
      "11 is even.\n",
      "12 is even.\n",
      "13 is even.\n",
      "14 is even.\n",
      "15 is even.\n",
      "16 is even.\n",
      "17 is even.\n",
      "18 is even.\n",
      "19 is even.\n",
      "20 is even.\n"
     ]
    }
   ],
   "source": [
    "for n in range(1,21):\n",
    "    if n % 2 == 0:\n",
    "        print(f'{n} is even.')\n",
    "    else:\n",
    "        print(f'{n} is even.')\n",
    "    "
   ]
  },
  {
   "cell_type": "code",
   "execution_count": 26,
   "id": "5fe2e0b0-09f1-4a50-9f3c-4b1a6ce40379",
   "metadata": {},
   "outputs": [
    {
     "name": "stdin",
     "output_type": "stream",
     "text": [
      "Enter the first integer: 1\n",
      "Enter the second integer: 2\n"
     ]
    },
    {
     "name": "stdout",
     "output_type": "stream",
     "text": [
      "Sum of Integers: 3\n"
     ]
    }
   ],
   "source": [
    "def sum_of_integers(a, b):\n",
    "    return a+b\n",
    "\n",
    "a = int(input(\"Enter the first integer:\"))\n",
    "b = int(input(\"Enter the second integer:\"))\n",
    "\n",
    "print(\"Sum of Integers:\", sum_of_integers(a, b))"
   ]
  },
  {
   "cell_type": "code",
   "execution_count": null,
   "id": "caf063a2-4e92-413b-a526-941ccd17708f",
   "metadata": {},
   "outputs": [],
   "source": []
  }
 ],
 "metadata": {
  "kernelspec": {
   "display_name": "Python 3 (ipykernel)",
   "language": "python",
   "name": "python3"
  },
  "language_info": {
   "codemirror_mode": {
    "name": "ipython",
    "version": 3
   },
   "file_extension": ".py",
   "mimetype": "text/x-python",
   "name": "python",
   "nbconvert_exporter": "python",
   "pygments_lexer": "ipython3",
   "version": "3.12.4"
  }
 },
 "nbformat": 4,
 "nbformat_minor": 5
}
