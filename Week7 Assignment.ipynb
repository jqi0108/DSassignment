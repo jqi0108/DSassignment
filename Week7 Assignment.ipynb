{
 "cells": [
  {
   "cell_type": "markdown",
   "id": "9075f809-c2df-4013-a36e-c47ca832c0fe",
   "metadata": {},
   "source": [
    "## How do you assess the statistical significance of an insight?"
   ]
  },
  {
   "cell_type": "markdown",
   "id": "d4f2168e-d84f-4bc2-b54b-6708b4f36e44",
   "metadata": {},
   "source": [
    "When I assess the statistical significance of an insight, I start by defining the null hypothesis and the alternative hypothesis. ​Then, I select an appropriate statistical test, such as a t-test, chi-square test, or ANOVA, depending on the data and the hypothesis. I calculate the p-value, which tells me the probability of observing the results if the null hypothesis is true. If the p-value is below the predefined significance level 𝛼, I conclude that the insight is statistically significant. I also ensure the sample size and assumptions of the test are valid to support the results."
   ]
  },
  {
   "cell_type": "markdown",
   "id": "99c230b4-9963-4ec5-aa6f-94fc74809714",
   "metadata": {},
   "source": [
    "## What is the Central Limit Theorem? Explain it. Why is it important?"
   ]
  },
  {
   "cell_type": "markdown",
   "id": "3f3fb80e-df33-4279-9843-b478158a5337",
   "metadata": {},
   "source": [
    "The sampling distribution of the sample mean approaches a normal distribution as the sample size gets large, regardless of the original data’s distribution. The mean of this sampling distribution is the same as the population mean, and its standard deviation is the population standard deviation divided by the square root of the sample size.\n",
    "This is important because it allows me to use normal distribution-based methods for hypothesis testing and confidence intervals, even when the data isn’t normally distributed. It simplifies complex real-world problems and helps me draw reliable inferences from sample data."
   ]
  },
  {
   "cell_type": "markdown",
   "id": "829a37e3-565a-48e9-9301-f9bd447f690a",
   "metadata": {},
   "source": [
    "## What is the statistical power?"
   ]
  },
  {
   "cell_type": "markdown",
   "id": "8aaebb7f-9da6-4b36-b054-808fe31b0113",
   "metadata": {},
   "source": [
    "Statistical power is how likely I am to correctly reject the null hypothesis when the alternative hypothesis is actually true. In other words, it’s my ability to detect an effect if there is one. I know it depends on factors like sample size, effect size, variability in the data, and the significance level"
   ]
  },
  {
   "cell_type": "markdown",
   "id": "d0f4aea8-1deb-41a3-9b58-ae7d846686c7",
   "metadata": {},
   "source": [
    "## How do you control for biases?"
   ]
  },
  {
   "cell_type": "markdown",
   "id": "44a9c936-93ce-46e1-b926-7bdc3adc3153",
   "metadata": {},
   "source": [
    "To control for biases, I use several strategies. First, I randomize whenever possible to distribute confounding variables evenly across groups. I also rely on blinding, such as double-blind setups, to prevent biases from expectations. Standardizing procedures ensures consistency in how data is collected and analyzed. When I suspect confounding variables, I use statistical adjustments like multivariate regression or matched sampling to minimize their influence. "
   ]
  },
  {
   "cell_type": "markdown",
   "id": "11a5547f-0901-435e-a43b-7bdba03ff1a0",
   "metadata": {},
   "source": [
    "## What are confounding variables?"
   ]
  },
  {
   "cell_type": "markdown",
   "id": "d6d4f560-9dde-4d4b-9717-de79062ba00f",
   "metadata": {},
   "source": [
    "Confounding variables are factors that affect both the independent and dependent variables, potentially distorting the relationship I’m trying to study. For example, if I’m studying the effect of exercise on weight loss, diet might be a confounding variable because it impacts both exercise habits and weight loss. "
   ]
  },
  {
   "cell_type": "markdown",
   "id": "948747f9-507f-48da-99fe-7d7c10cc1ced",
   "metadata": {},
   "source": [
    "## What is A/B testing?"
   ]
  },
  {
   "cell_type": "markdown",
   "id": "55f04327-0223-4b31-8afe-563a48766a50",
   "metadata": {},
   "source": [
    "A/B testing is a method I use to compare two versions of something to determine which one performs better. For example, in a marketing experiment, I might show one group the current webpage (A) and another group a modified version (B). I randomly assign users to the two groups, measure a key metric (like click-through rate), and analyze the results using statistical tests. If the difference is significant, I use the findings to guide decisions. "
   ]
  },
  {
   "cell_type": "markdown",
   "id": "76d8d392-ae16-4679-913e-e3ce16691ebf",
   "metadata": {},
   "source": [
    "## What are confidence intervals?"
   ]
  },
  {
   "cell_type": "markdown",
   "id": "8bcacd0a-91ea-4d89-9fc6-5839fb25a6d8",
   "metadata": {},
   "source": [
    "Confidence intervals help me estimate a range of values where the true population parameter is likely to fall. For example, a 95% confidence interval means that if I repeated the experiment many times, 95% of those intervals would contain the true value. Confidence intervals combine the point estimate with a margin of error, which accounts for variability in the data"
   ]
  }
 ],
 "metadata": {
  "kernelspec": {
   "display_name": "Python 3 (ipykernel)",
   "language": "python",
   "name": "python3"
  },
  "language_info": {
   "codemirror_mode": {
    "name": "ipython",
    "version": 3
   },
   "file_extension": ".py",
   "mimetype": "text/x-python",
   "name": "python",
   "nbconvert_exporter": "python",
   "pygments_lexer": "ipython3",
   "version": "3.12.4"
  }
 },
 "nbformat": 4,
 "nbformat_minor": 5
}
